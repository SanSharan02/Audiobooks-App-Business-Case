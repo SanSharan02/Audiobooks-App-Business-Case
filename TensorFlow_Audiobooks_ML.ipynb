{
 "cells": [
  {
   "cell_type": "code",
   "execution_count": 2,
   "id": "59506d45",
   "metadata": {},
   "outputs": [],
   "source": [
    "import numpy as np\n",
    "import tensorflow as tf"
   ]
  },
  {
   "cell_type": "code",
   "execution_count": 12,
   "id": "d777e2d5",
   "metadata": {},
   "outputs": [],
   "source": [
    "npz = np.load('Audiobooks_data_train.npz')\n",
    "\n",
    "train_inputs = npz['inputs'].astype(np.float32)\n",
    "train_targets = npz['targets'].astype(np.int32)\n",
    "\n",
    "npz = np.load('Audiobooks_data_validation.npz')\n",
    "validation_inputs, validation_targets = npz['inputs'].astype(np.float32), npz['targets'].astype(np.int32)\n",
    "\n",
    "npz = np.load('Audiobooks_data_test.npz')\n",
    "test_inputs, test_targets = npz['inputs'].astype(np.float32), npz['targets'].astype(np.int32)"
   ]
  },
  {
   "cell_type": "code",
   "execution_count": 15,
   "id": "5eab3bc5",
   "metadata": {},
   "outputs": [
    {
     "name": "stdout",
     "output_type": "stream",
     "text": [
      "Epoch 1/100\n",
      "36/36 - 0s - loss: 0.6032 - accuracy: 0.6477 - val_loss: 0.5199 - val_accuracy: 0.7696\n",
      "Epoch 2/100\n",
      "36/36 - 0s - loss: 0.4711 - accuracy: 0.7737 - val_loss: 0.4426 - val_accuracy: 0.8031\n",
      "Epoch 3/100\n",
      "36/36 - 0s - loss: 0.4173 - accuracy: 0.7893 - val_loss: 0.4114 - val_accuracy: 0.8031\n",
      "Epoch 4/100\n",
      "36/36 - 0s - loss: 0.3909 - accuracy: 0.7902 - val_loss: 0.3886 - val_accuracy: 0.8076\n",
      "Epoch 5/100\n",
      "36/36 - 0s - loss: 0.3752 - accuracy: 0.7999 - val_loss: 0.3684 - val_accuracy: 0.8233\n",
      "Epoch 6/100\n",
      "36/36 - 0s - loss: 0.3642 - accuracy: 0.8019 - val_loss: 0.3563 - val_accuracy: 0.8188\n",
      "Epoch 7/100\n",
      "36/36 - 0s - loss: 0.3551 - accuracy: 0.8148 - val_loss: 0.3495 - val_accuracy: 0.8143\n",
      "Epoch 8/100\n",
      "36/36 - 0s - loss: 0.3511 - accuracy: 0.8011 - val_loss: 0.3424 - val_accuracy: 0.8367\n",
      "Epoch 9/100\n",
      "36/36 - 0s - loss: 0.3451 - accuracy: 0.8092 - val_loss: 0.3391 - val_accuracy: 0.8322\n",
      "Epoch 10/100\n",
      "36/36 - 0s - loss: 0.3432 - accuracy: 0.8097 - val_loss: 0.3630 - val_accuracy: 0.7875\n",
      "Epoch 11/100\n",
      "36/36 - 0s - loss: 0.3411 - accuracy: 0.8134 - val_loss: 0.3332 - val_accuracy: 0.8210\n",
      "Epoch 12/100\n",
      "36/36 - 0s - loss: 0.3355 - accuracy: 0.8139 - val_loss: 0.3370 - val_accuracy: 0.8367\n",
      "Epoch 13/100\n",
      "36/36 - 0s - loss: 0.3350 - accuracy: 0.8153 - val_loss: 0.3324 - val_accuracy: 0.8300\n",
      "Epoch 14/100\n",
      "36/36 - 0s - loss: 0.3347 - accuracy: 0.8170 - val_loss: 0.3458 - val_accuracy: 0.8054\n",
      "Epoch 15/100\n",
      "36/36 - 0s - loss: 0.3314 - accuracy: 0.8195 - val_loss: 0.3288 - val_accuracy: 0.8233\n",
      "Epoch 16/100\n",
      "36/36 - 0s - loss: 0.3309 - accuracy: 0.8184 - val_loss: 0.3190 - val_accuracy: 0.8434\n",
      "Epoch 17/100\n",
      "36/36 - 0s - loss: 0.3295 - accuracy: 0.8175 - val_loss: 0.3223 - val_accuracy: 0.8233\n",
      "Epoch 18/100\n",
      "36/36 - 0s - loss: 0.3284 - accuracy: 0.8245 - val_loss: 0.3221 - val_accuracy: 0.8322\n"
     ]
    },
    {
     "data": {
      "text/plain": [
       "<tensorflow.python.keras.callbacks.History at 0x2389cd170a0>"
      ]
     },
     "execution_count": 15,
     "metadata": {},
     "output_type": "execute_result"
    }
   ],
   "source": [
    "##MODEL\n",
    "\n",
    "input_size = 10\n",
    "output_size = 2\n",
    "hidden_layer_size = 50\n",
    "\n",
    "model = tf.keras.Sequential([\n",
    "                            tf.keras.layers.Dense(hidden_layer_size, activation = 'relu'),\n",
    "                            tf.keras.layers.Dense(hidden_layer_size, activation = 'relu'),\n",
    "                            tf.keras.layers.Dense(output_size, activation = 'softmax')\n",
    "                            ])\n",
    "\n",
    "model.compile(optimizer='adam', loss = 'sparse_categorical_crossentropy', metrics = ['accuracy'])\n",
    "\n",
    "batch_size = 100\n",
    "\n",
    "max_epochs = 100\n",
    "\n",
    "early_stopping = tf.keras.callbacks.EarlyStopping(patience = 2)\n",
    "\n",
    "model.fit(train_inputs,\n",
    "         train_targets,\n",
    "         batch_size = batch_size,\n",
    "         epochs = max_epochs,\n",
    "         callbacks = [early_stopping],\n",
    "         validation_data = (validation_inputs, validation_targets),\n",
    "         verbose = 2)"
   ]
  },
  {
   "cell_type": "code",
   "execution_count": 16,
   "id": "21c03eb8",
   "metadata": {},
   "outputs": [
    {
     "name": "stdout",
     "output_type": "stream",
     "text": [
      "14/14 [==============================] - 0s 2ms/step - loss: 0.3333 - accuracy: 0.8125\n"
     ]
    }
   ],
   "source": [
    "test_loss, test_accuracy = model.evaluate(test_inputs, test_targets)"
   ]
  },
  {
   "cell_type": "code",
   "execution_count": 18,
   "id": "9c049389",
   "metadata": {},
   "outputs": [
    {
     "name": "stdout",
     "output_type": "stream",
     "text": [
      "\n",
      "Test loss: 0.33. Test accuracy: 81.25%\n"
     ]
    }
   ],
   "source": [
    "print ('\\nTest loss: {0:.2f}. Test accuracy: {1:.2f}%'.format(test_loss, test_accuracy*100.))"
   ]
  },
  {
   "cell_type": "code",
   "execution_count": null,
   "id": "7e9183de",
   "metadata": {},
   "outputs": [],
   "source": []
  }
 ],
 "metadata": {
  "kernelspec": {
   "display_name": "Python 3",
   "language": "python",
   "name": "python3"
  },
  "language_info": {
   "codemirror_mode": {
    "name": "ipython",
    "version": 3
   },
   "file_extension": ".py",
   "mimetype": "text/x-python",
   "name": "python",
   "nbconvert_exporter": "python",
   "pygments_lexer": "ipython3",
   "version": "3.8.10"
  }
 },
 "nbformat": 4,
 "nbformat_minor": 5
}
